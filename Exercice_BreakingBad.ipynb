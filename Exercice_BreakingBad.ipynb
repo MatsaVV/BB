{
 "cells": [
  {
   "cell_type": "code",
   "execution_count": 1,
   "id": "546b2dcb",
   "metadata": {},
   "outputs": [],
   "source": [
    "import json\n",
    "import requests\n",
    "\n",
    "reponse_API = requests.get('https://api.breakingbadquotes.xyz/v1/quotes/5')"
   ]
  },
  {
   "cell_type": "code",
   "execution_count": 2,
   "id": "edb0fc51",
   "metadata": {},
   "outputs": [],
   "source": [
    "data = reponse_API.text"
   ]
  },
  {
   "cell_type": "code",
   "execution_count": 3,
   "id": "3421d173",
   "metadata": {},
   "outputs": [
    {
     "data": {
      "text/plain": [
       "[{'quote': \"Let's see, how should i put this? I'm in, you're out.\",\n",
       "  'author': 'Walter White'},\n",
       " {'quote': \"You are not the guy. You're not capable of being the guy. I had a guy but now I don't. You are not the guy.\",\n",
       "  'author': 'Mike Ehrmantraut'},\n",
       " {'quote': 'If you believe that there’s a hell, we’re pretty much already going there.',\n",
       "  'author': 'Walter White'},\n",
       " {'quote': \"You know how they say it's been a pleasure'? Well... it hasn't.\",\n",
       "  'author': 'Mike Ehrmantraut'},\n",
       " {'quote': 'Sitting around, smoking marijuana, eating Cheetos and masturbating do not constitute ‘plans.’',\n",
       "  'author': 'Walter White'}]"
      ]
     },
     "execution_count": 3,
     "metadata": {},
     "output_type": "execute_result"
    }
   ],
   "source": [
    "json.loads(data)"
   ]
  },
  {
   "cell_type": "code",
   "execution_count": 36,
   "id": "713b7676",
   "metadata": {},
   "outputs": [],
   "source": [
    "def appel_api(nombre):\n",
    "    url = f'https://api.breakingbadquotes.xyz/v1/quotes/{nombre}'\n",
    "    try:\n",
    "        response = requests.get(url)\n",
    "        response.raise_for_status()\n",
    "        return response.json()\n",
    "    except requests.exceptions.RequestException as e:\n",
    "        print(f\"Erreur lors de l'appel à l'API : {e}\")\n",
    "        return None"
   ]
  },
  {
   "cell_type": "code",
   "execution_count": 43,
   "id": "3ee550d3",
   "metadata": {},
   "outputs": [
    {
     "name": "stdout",
     "output_type": "stream",
     "text": [
      "Réponse de l'API : [{'quote': 'Put me on your magical boat, man, and sail me down your chocolaty river of meth!', 'author': 'Badger'}, {'quote': 'Cooking is art. And the shit I cook is the bomb.', 'author': 'Jesse Pinkman'}]\n"
     ]
    }
   ],
   "source": [
    "\n",
    "response_data = appel_api(2)\n",
    "if response_data:\n",
    "    print(\"Réponse de l'API :\", response_data)\n",
    "else:\n",
    "    print(\"Erreur lors de la récupération des informations sur l'utilisateur.\")"
   ]
  },
  {
   "cell_type": "code",
   "execution_count": null,
   "id": "cdbbec2a",
   "metadata": {},
   "outputs": [],
   "source": []
  }
 ],
 "metadata": {
  "kernelspec": {
   "display_name": "Python 3 (ipykernel)",
   "language": "python",
   "name": "python3"
  },
  "language_info": {
   "codemirror_mode": {
    "name": "ipython",
    "version": 3
   },
   "file_extension": ".py",
   "mimetype": "text/x-python",
   "name": "python",
   "nbconvert_exporter": "python",
   "pygments_lexer": "ipython3",
   "version": "3.10.6"
  },
  "toc": {
   "base_numbering": 1,
   "nav_menu": {},
   "number_sections": true,
   "sideBar": true,
   "skip_h1_title": false,
   "title_cell": "Table of Contents",
   "title_sidebar": "Contents",
   "toc_cell": false,
   "toc_position": {},
   "toc_section_display": true,
   "toc_window_display": false
  }
 },
 "nbformat": 4,
 "nbformat_minor": 5
}
